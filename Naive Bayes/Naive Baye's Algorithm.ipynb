{
 "cells": [
  {
   "cell_type": "code",
   "execution_count": 1,
   "id": "8559f92b",
   "metadata": {},
   "outputs": [],
   "source": [
    "#Load the necessary python libraries\n",
    "import numpy as np\n",
    "import pandas as pd\n",
    "import matplotlib.pyplot as plt\n",
    "plt.style.use('ggplot')"
   ]
  },
  {
   "cell_type": "code",
   "execution_count": 2,
   "id": "d777e984",
   "metadata": {},
   "outputs": [
    {
     "data": {
      "text/html": [
       "<div>\n",
       "<style scoped>\n",
       "    .dataframe tbody tr th:only-of-type {\n",
       "        vertical-align: middle;\n",
       "    }\n",
       "\n",
       "    .dataframe tbody tr th {\n",
       "        vertical-align: top;\n",
       "    }\n",
       "\n",
       "    .dataframe thead th {\n",
       "        text-align: right;\n",
       "    }\n",
       "</style>\n",
       "<table border=\"1\" class=\"dataframe\">\n",
       "  <thead>\n",
       "    <tr style=\"text-align: right;\">\n",
       "      <th></th>\n",
       "      <th>label</th>\n",
       "      <th>message</th>\n",
       "    </tr>\n",
       "  </thead>\n",
       "  <tbody>\n",
       "    <tr>\n",
       "      <th>0</th>\n",
       "      <td>ham</td>\n",
       "      <td>Go until jurong point, crazy.. Available only ...</td>\n",
       "    </tr>\n",
       "    <tr>\n",
       "      <th>1</th>\n",
       "      <td>ham</td>\n",
       "      <td>Ok lar... Joking wif u oni...</td>\n",
       "    </tr>\n",
       "    <tr>\n",
       "      <th>2</th>\n",
       "      <td>spam</td>\n",
       "      <td>Free entry in 2 a wkly comp to win FA Cup fina...</td>\n",
       "    </tr>\n",
       "    <tr>\n",
       "      <th>3</th>\n",
       "      <td>ham</td>\n",
       "      <td>U dun say so early hor... U c already then say...</td>\n",
       "    </tr>\n",
       "    <tr>\n",
       "      <th>4</th>\n",
       "      <td>ham</td>\n",
       "      <td>Nah I don't think he goes to usf, he lives aro...</td>\n",
       "    </tr>\n",
       "  </tbody>\n",
       "</table>\n",
       "</div>"
      ],
      "text/plain": [
       "  label                                            message\n",
       "0   ham  Go until jurong point, crazy.. Available only ...\n",
       "1   ham                      Ok lar... Joking wif u oni...\n",
       "2  spam  Free entry in 2 a wkly comp to win FA Cup fina...\n",
       "3   ham  U dun say so early hor... U c already then say...\n",
       "4   ham  Nah I don't think he goes to usf, he lives aro..."
      ]
     },
     "execution_count": 2,
     "metadata": {},
     "output_type": "execute_result"
    }
   ],
   "source": [
    "message = pd.read_csv(r\"C:\\Users\\HP\\Desktop\\Datasets_CSV\\spam.csv\", encoding='latin-1')[['v1', 'v2']]\n",
    "message.columns = ['label', 'message']\n",
    "message.head()"
   ]
  },
  {
   "cell_type": "code",
   "execution_count": 3,
   "id": "002ae284",
   "metadata": {},
   "outputs": [
    {
     "data": {
      "text/plain": [
       "(5572, 2)"
      ]
     },
     "execution_count": 3,
     "metadata": {},
     "output_type": "execute_result"
    }
   ],
   "source": [
    "message.shape"
   ]
  },
  {
   "cell_type": "code",
   "execution_count": 4,
   "id": "3d4f2fcc",
   "metadata": {},
   "outputs": [
    {
     "data": {
      "text/plain": [
       "label\n",
       "ham     4825\n",
       "spam     747\n",
       "Name: count, dtype: int64"
      ]
     },
     "execution_count": 4,
     "metadata": {},
     "output_type": "execute_result"
    }
   ],
   "source": [
    "message['label'].value_counts()"
   ]
  },
  {
   "cell_type": "code",
   "execution_count": 5,
   "id": "de46d30f",
   "metadata": {},
   "outputs": [
    {
     "data": {
      "text/html": [
       "<div>\n",
       "<style scoped>\n",
       "    .dataframe tbody tr th:only-of-type {\n",
       "        vertical-align: middle;\n",
       "    }\n",
       "\n",
       "    .dataframe tbody tr th {\n",
       "        vertical-align: top;\n",
       "    }\n",
       "\n",
       "    .dataframe thead tr th {\n",
       "        text-align: left;\n",
       "    }\n",
       "\n",
       "    .dataframe thead tr:last-of-type th {\n",
       "        text-align: right;\n",
       "    }\n",
       "</style>\n",
       "<table border=\"1\" class=\"dataframe\">\n",
       "  <thead>\n",
       "    <tr>\n",
       "      <th></th>\n",
       "      <th colspan=\"4\" halign=\"left\">message</th>\n",
       "    </tr>\n",
       "    <tr>\n",
       "      <th></th>\n",
       "      <th>count</th>\n",
       "      <th>unique</th>\n",
       "      <th>top</th>\n",
       "      <th>freq</th>\n",
       "    </tr>\n",
       "    <tr>\n",
       "      <th>label</th>\n",
       "      <th></th>\n",
       "      <th></th>\n",
       "      <th></th>\n",
       "      <th></th>\n",
       "    </tr>\n",
       "  </thead>\n",
       "  <tbody>\n",
       "    <tr>\n",
       "      <th>ham</th>\n",
       "      <td>4825</td>\n",
       "      <td>4516</td>\n",
       "      <td>Sorry, I'll call later</td>\n",
       "      <td>30</td>\n",
       "    </tr>\n",
       "    <tr>\n",
       "      <th>spam</th>\n",
       "      <td>747</td>\n",
       "      <td>653</td>\n",
       "      <td>Please call our customer service representativ...</td>\n",
       "      <td>4</td>\n",
       "    </tr>\n",
       "  </tbody>\n",
       "</table>\n",
       "</div>"
      ],
      "text/plain": [
       "      message                                                               \n",
       "        count unique                                                top freq\n",
       "label                                                                       \n",
       "ham      4825   4516                             Sorry, I'll call later   30\n",
       "spam      747    653  Please call our customer service representativ...    4"
      ]
     },
     "execution_count": 5,
     "metadata": {},
     "output_type": "execute_result"
    }
   ],
   "source": [
    "message.groupby('label').describe()"
   ]
  },
  {
   "cell_type": "code",
   "execution_count": 6,
   "id": "04cda886",
   "metadata": {},
   "outputs": [
    {
     "data": {
      "text/html": [
       "<div>\n",
       "<style scoped>\n",
       "    .dataframe tbody tr th:only-of-type {\n",
       "        vertical-align: middle;\n",
       "    }\n",
       "\n",
       "    .dataframe tbody tr th {\n",
       "        vertical-align: top;\n",
       "    }\n",
       "\n",
       "    .dataframe thead th {\n",
       "        text-align: right;\n",
       "    }\n",
       "</style>\n",
       "<table border=\"1\" class=\"dataframe\">\n",
       "  <thead>\n",
       "    <tr style=\"text-align: right;\">\n",
       "      <th></th>\n",
       "      <th>label</th>\n",
       "      <th>message</th>\n",
       "      <th>length</th>\n",
       "    </tr>\n",
       "  </thead>\n",
       "  <tbody>\n",
       "    <tr>\n",
       "      <th>0</th>\n",
       "      <td>ham</td>\n",
       "      <td>Go until jurong point, crazy.. Available only ...</td>\n",
       "      <td>111</td>\n",
       "    </tr>\n",
       "    <tr>\n",
       "      <th>1</th>\n",
       "      <td>ham</td>\n",
       "      <td>Ok lar... Joking wif u oni...</td>\n",
       "      <td>29</td>\n",
       "    </tr>\n",
       "    <tr>\n",
       "      <th>2</th>\n",
       "      <td>spam</td>\n",
       "      <td>Free entry in 2 a wkly comp to win FA Cup fina...</td>\n",
       "      <td>155</td>\n",
       "    </tr>\n",
       "    <tr>\n",
       "      <th>3</th>\n",
       "      <td>ham</td>\n",
       "      <td>U dun say so early hor... U c already then say...</td>\n",
       "      <td>49</td>\n",
       "    </tr>\n",
       "    <tr>\n",
       "      <th>4</th>\n",
       "      <td>ham</td>\n",
       "      <td>Nah I don't think he goes to usf, he lives aro...</td>\n",
       "      <td>61</td>\n",
       "    </tr>\n",
       "  </tbody>\n",
       "</table>\n",
       "</div>"
      ],
      "text/plain": [
       "  label                                            message  length\n",
       "0   ham  Go until jurong point, crazy.. Available only ...     111\n",
       "1   ham                      Ok lar... Joking wif u oni...      29\n",
       "2  spam  Free entry in 2 a wkly comp to win FA Cup fina...     155\n",
       "3   ham  U dun say so early hor... U c already then say...      49\n",
       "4   ham  Nah I don't think he goes to usf, he lives aro...      61"
      ]
     },
     "execution_count": 6,
     "metadata": {},
     "output_type": "execute_result"
    }
   ],
   "source": [
    "message['length']=message['message'].apply(len)\n",
    "message.head()"
   ]
  },
  {
   "cell_type": "code",
   "execution_count": 7,
   "id": "f398b76a",
   "metadata": {},
   "outputs": [],
   "source": [
    "import matplotlib.pyplot as plt\n",
    "import seaborn as sns\n",
    "%matplotlib inline"
   ]
  },
  {
   "cell_type": "code",
   "execution_count": 8,
   "id": "b321d510",
   "metadata": {},
   "outputs": [
    {
     "data": {
      "text/plain": [
       "<Axes: ylabel='Frequency'>"
      ]
     },
     "execution_count": 8,
     "metadata": {},
     "output_type": "execute_result"
    },
    {
     "data": {
      "image/png": "[encoded data removed]",
      "text/plain": [
       "<Figure size 640x480 with 1 Axes>"
      ]
     },
     "metadata": {},
     "output_type": "display_data"
    }
   ],
   "source": [
    "message['length'].plot(bins=50,kind='hist')"
   ]
  },
  {
   "cell_type": "code",
   "execution_count": 9,
   "id": "375a0258",
   "metadata": {},
   "outputs": [
    {
     "data": {
      "text/plain": [
       "count    5572.000000\n",
       "mean       80.118808\n",
       "std        59.690841\n",
       "min         2.000000\n",
       "25%        36.000000\n",
       "50%        61.000000\n",
       "75%       121.000000\n",
       "max       910.000000\n",
       "Name: length, dtype: float64"
      ]
     },
     "execution_count": 9,
     "metadata": {},
     "output_type": "execute_result"
    }
   ],
   "source": [
    "message.length.describe()"
   ]
  },
  {
   "cell_type": "code",
   "execution_count": 10,
   "id": "1800b923",
   "metadata": {},
   "outputs": [
    {
     "data": {
      "text/plain": [
       "'SMS. ac Sptv: The New Jersey Devils and the Detroit Red Wings play Ice Hockey. Correct or Incorrect? End? Reply END SPTV'"
      ]
     },
     "execution_count": 10,
     "metadata": {},
     "output_type": "execute_result"
    }
   ],
   "source": [
    "message[message['length']==120]['message'].iloc[0]"
   ]
  },
  {
   "cell_type": "markdown",
   "id": "318226ac",
   "metadata": {},
   "source": [
    "Text Pre-processing\n",
    "Our main issue with our data is that it is all in text format (strings). The classification algorithms that we've learned about so far will need some sort of numerical feature vector in order to perform the classification task. There are actually many methods to convert a corpus to a vector format. The simplest is the the bag-of-words approach, where each unique word in a text will be represented by one number.\n",
    "In this section we'll convert the raw messages (sequence of characters) into vectors (sequences of numbers).\n",
    "As a first step, let's write a function that will split a message into its individual words and return a list. We'll also remove very common words, ('the', 'a', etc..). To do this we will take advantage of the NLTK library. It's pretty much the standard library in Python for processing text and has a lot of useful features. We'll only use some of the basic ones here.\n",
    "Let's create a function that will process the string in the message column, then we can just use apply() in pandas do process all the text in the DataFrame.\n",
    "First removing punctuation. We can just take advantage of Python's built-in string library to get a quick list of all the possible punctuation:"
   ]
  },
  {
   "cell_type": "code",
   "execution_count": 11,
   "id": "5514be50",
   "metadata": {},
   "outputs": [
    {
     "name": "stderr",
     "output_type": "stream",
     "text": [
      "[nltk_data] Downloading package stopwords to\n",
      "[nltk_data]     C:\\Users\\HP\\AppData\\Roaming\\nltk_data...\n",
      "[nltk_data]   Unzipping corpora\\stopwords.zip.\n"
     ]
    },
    {
     "data": {
      "text/plain": [
       "True"
      ]
     },
     "execution_count": 11,
     "metadata": {},
     "output_type": "execute_result"
    }
   ],
   "source": [
    "import nltk\n",
    "nltk.download('stopwords')"
   ]
  },
  {
   "cell_type": "code",
   "execution_count": 12,
   "id": "9f0310d7",
   "metadata": {},
   "outputs": [],
   "source": [
    "import string\n",
    "from nltk.corpus import stopwords"
   ]
  },
  {
   "cell_type": "code",
   "execution_count": 13,
   "id": "0b5eb03d",
   "metadata": {},
   "outputs": [
    {
     "data": {
      "text/plain": [
       "['i',\n",
       " 'me',\n",
       " 'my',\n",
       " 'myself',\n",
       " 'we',\n",
       " 'our',\n",
       " 'ours',\n",
       " 'ourselves',\n",
       " 'you',\n",
       " \"you're\",\n",
       " \"you've\",\n",
       " \"you'll\",\n",
       " \"you'd\",\n",
       " 'your',\n",
       " 'yours',\n",
       " 'yourself',\n",
       " 'yourselves',\n",
       " 'he',\n",
       " 'him',\n",
       " 'his',\n",
       " 'himself',\n",
       " 'she',\n",
       " \"she's\",\n",
       " 'her',\n",
       " 'hers',\n",
       " 'herself',\n",
       " 'it',\n",
       " \"it's\",\n",
       " 'its',\n",
       " 'itself',\n",
       " 'they',\n",
       " 'them',\n",
       " 'their',\n",
       " 'theirs',\n",
       " 'themselves',\n",
       " 'what',\n",
       " 'which',\n",
       " 'who',\n",
       " 'whom',\n",
       " 'this',\n",
       " 'that',\n",
       " \"that'll\",\n",
       " 'these',\n",
       " 'those',\n",
       " 'am',\n",
       " 'is',\n",
       " 'are',\n",
       " 'was',\n",
       " 'were',\n",
       " 'be',\n",
       " 'been',\n",
       " 'being',\n",
       " 'have',\n",
       " 'has',\n",
       " 'had',\n",
       " 'having',\n",
       " 'do',\n",
       " 'does',\n",
       " 'did',\n",
       " 'doing',\n",
       " 'a',\n",
       " 'an',\n",
       " 'the',\n",
       " 'and',\n",
       " 'but',\n",
       " 'if',\n",
       " 'or',\n",
       " 'because',\n",
       " 'as',\n",
       " 'until',\n",
       " 'while',\n",
       " 'of',\n",
       " 'at',\n",
       " 'by',\n",
       " 'for',\n",
       " 'with',\n",
       " 'about',\n",
       " 'against',\n",
       " 'between',\n",
       " 'into',\n",
       " 'through',\n",
       " 'during',\n",
       " 'before',\n",
       " 'after',\n",
       " 'above',\n",
       " 'below',\n",
       " 'to',\n",
       " 'from',\n",
       " 'up',\n",
       " 'down',\n",
       " 'in',\n",
       " 'out',\n",
       " 'on',\n",
       " 'off',\n",
       " 'over',\n",
       " 'under',\n",
       " 'again',\n",
       " 'further',\n",
       " 'then',\n",
       " 'once',\n",
       " 'here',\n",
       " 'there',\n",
       " 'when',\n",
       " 'where',\n",
       " 'why',\n",
       " 'how',\n",
       " 'all',\n",
       " 'any',\n",
       " 'both',\n",
       " 'each',\n",
       " 'few',\n",
       " 'more',\n",
       " 'most',\n",
       " 'other',\n",
       " 'some',\n",
       " 'such',\n",
       " 'no',\n",
       " 'nor',\n",
       " 'not',\n",
       " 'only',\n",
       " 'own',\n",
       " 'same',\n",
       " 'so',\n",
       " 'than',\n",
       " 'too',\n",
       " 'very',\n",
       " 's',\n",
       " 't',\n",
       " 'can',\n",
       " 'will',\n",
       " 'just',\n",
       " 'don',\n",
       " \"don't\",\n",
       " 'should',\n",
       " \"should've\",\n",
       " 'now',\n",
       " 'd',\n",
       " 'll',\n",
       " 'm',\n",
       " 'o',\n",
       " 're',\n",
       " 've',\n",
       " 'y',\n",
       " 'ain',\n",
       " 'aren',\n",
       " \"aren't\",\n",
       " 'couldn',\n",
       " \"couldn't\",\n",
       " 'didn',\n",
       " \"didn't\",\n",
       " 'doesn',\n",
       " \"doesn't\",\n",
       " 'hadn',\n",
       " \"hadn't\",\n",
       " 'hasn',\n",
       " \"hasn't\",\n",
       " 'haven',\n",
       " \"haven't\",\n",
       " 'isn',\n",
       " \"isn't\",\n",
       " 'ma',\n",
       " 'mightn',\n",
       " \"mightn't\",\n",
       " 'mustn',\n",
       " \"mustn't\",\n",
       " 'needn',\n",
       " \"needn't\",\n",
       " 'shan',\n",
       " \"shan't\",\n",
       " 'shouldn',\n",
       " \"shouldn't\",\n",
       " 'wasn',\n",
       " \"wasn't\",\n",
       " 'weren',\n",
       " \"weren't\",\n",
       " 'won',\n",
       " \"won't\",\n",
       " 'wouldn',\n",
       " \"wouldn't\"]"
      ]
     },
     "execution_count": 13,
     "metadata": {},
     "output_type": "execute_result"
    }
   ],
   "source": [
    "stopwords.words('english')"
   ]
  },
  {
   "cell_type": "markdown",
   "id": "b4552cc4",
   "metadata": {},
   "source": [
    "Let us write a function which removes punctuation and stopwords from our data"
   ]
  },
  {
   "cell_type": "code",
   "execution_count": 14,
   "id": "6c933849",
   "metadata": {},
   "outputs": [],
   "source": [
    "def text_process(msg):\n",
    "    nopunc =[char for char in msg if char not in string.punctuation]\n",
    "    nopunc=''.join(nopunc)\n",
    "    return ' '.join([word for word in nopunc.split() if word.lower() not in stopwords.words('english')])"
   ]
  },
  {
   "cell_type": "code",
   "execution_count": 15,
   "id": "0b9b314c",
   "metadata": {},
   "outputs": [
    {
     "data": {
      "text/html": [
       "<div>\n",
       "<style scoped>\n",
       "    .dataframe tbody tr th:only-of-type {\n",
       "        vertical-align: middle;\n",
       "    }\n",
       "\n",
       "    .dataframe tbody tr th {\n",
       "        vertical-align: top;\n",
       "    }\n",
       "\n",
       "    .dataframe thead th {\n",
       "        text-align: right;\n",
       "    }\n",
       "</style>\n",
       "<table border=\"1\" class=\"dataframe\">\n",
       "  <thead>\n",
       "    <tr style=\"text-align: right;\">\n",
       "      <th></th>\n",
       "      <th>label</th>\n",
       "      <th>message</th>\n",
       "      <th>length</th>\n",
       "    </tr>\n",
       "  </thead>\n",
       "  <tbody>\n",
       "    <tr>\n",
       "      <th>0</th>\n",
       "      <td>ham</td>\n",
       "      <td>Go until jurong point, crazy.. Available only ...</td>\n",
       "      <td>111</td>\n",
       "    </tr>\n",
       "    <tr>\n",
       "      <th>1</th>\n",
       "      <td>ham</td>\n",
       "      <td>Ok lar... Joking wif u oni...</td>\n",
       "      <td>29</td>\n",
       "    </tr>\n",
       "    <tr>\n",
       "      <th>2</th>\n",
       "      <td>spam</td>\n",
       "      <td>Free entry in 2 a wkly comp to win FA Cup fina...</td>\n",
       "      <td>155</td>\n",
       "    </tr>\n",
       "    <tr>\n",
       "      <th>3</th>\n",
       "      <td>ham</td>\n",
       "      <td>U dun say so early hor... U c already then say...</td>\n",
       "      <td>49</td>\n",
       "    </tr>\n",
       "    <tr>\n",
       "      <th>4</th>\n",
       "      <td>ham</td>\n",
       "      <td>Nah I don't think he goes to usf, he lives aro...</td>\n",
       "      <td>61</td>\n",
       "    </tr>\n",
       "  </tbody>\n",
       "</table>\n",
       "</div>"
      ],
      "text/plain": [
       "  label                                            message  length\n",
       "0   ham  Go until jurong point, crazy.. Available only ...     111\n",
       "1   ham                      Ok lar... Joking wif u oni...      29\n",
       "2  spam  Free entry in 2 a wkly comp to win FA Cup fina...     155\n",
       "3   ham  U dun say so early hor... U c already then say...      49\n",
       "4   ham  Nah I don't think he goes to usf, he lives aro...      61"
      ]
     },
     "execution_count": 15,
     "metadata": {},
     "output_type": "execute_result"
    }
   ],
   "source": [
    "message.head()"
   ]
  },
  {
   "cell_type": "markdown",
   "id": "5efb48f7",
   "metadata": {},
   "source": [
    "Now let's \"tokenize\" these messages. Tokenization is just the term used to describe the process of converting the normal text strings in to a list of tokens (words that we actually want)."
   ]
  },
  {
   "cell_type": "code",
   "execution_count": 18,
   "id": "9e366ea1",
   "metadata": {},
   "outputs": [],
   "source": [
    "pd.set_option('display.max_colwidth', None)"
   ]
  },
  {
   "cell_type": "code",
   "execution_count": 19,
   "id": "c9b7e899",
   "metadata": {},
   "outputs": [
    {
     "data": {
      "text/html": [
       "<div>\n",
       "<style scoped>\n",
       "    .dataframe tbody tr th:only-of-type {\n",
       "        vertical-align: middle;\n",
       "    }\n",
       "\n",
       "    .dataframe tbody tr th {\n",
       "        vertical-align: top;\n",
       "    }\n",
       "\n",
       "    .dataframe thead th {\n",
       "        text-align: right;\n",
       "    }\n",
       "</style>\n",
       "<table border=\"1\" class=\"dataframe\">\n",
       "  <thead>\n",
       "    <tr style=\"text-align: right;\">\n",
       "      <th></th>\n",
       "      <th>label</th>\n",
       "      <th>message</th>\n",
       "      <th>length</th>\n",
       "    </tr>\n",
       "  </thead>\n",
       "  <tbody>\n",
       "    <tr>\n",
       "      <th>0</th>\n",
       "      <td>ham</td>\n",
       "      <td>Go until jurong point, crazy.. Available only in bugis n great world la e buffet... Cine there got amore wat...</td>\n",
       "      <td>111</td>\n",
       "    </tr>\n",
       "    <tr>\n",
       "      <th>1</th>\n",
       "      <td>ham</td>\n",
       "      <td>Ok lar... Joking wif u oni...</td>\n",
       "      <td>29</td>\n",
       "    </tr>\n",
       "    <tr>\n",
       "      <th>2</th>\n",
       "      <td>spam</td>\n",
       "      <td>Free entry in 2 a wkly comp to win FA Cup final tkts 21st May 2005. Text FA to 87121 to receive entry question(std txt rate)T&amp;C's apply 08452810075over18's</td>\n",
       "      <td>155</td>\n",
       "    </tr>\n",
       "    <tr>\n",
       "      <th>3</th>\n",
       "      <td>ham</td>\n",
       "      <td>U dun say so early hor... U c already then say...</td>\n",
       "      <td>49</td>\n",
       "    </tr>\n",
       "    <tr>\n",
       "      <th>4</th>\n",
       "      <td>ham</td>\n",
       "      <td>Nah I don't think he goes to usf, he lives around here though</td>\n",
       "      <td>61</td>\n",
       "    </tr>\n",
       "  </tbody>\n",
       "</table>\n",
       "</div>"
      ],
      "text/plain": [
       "  label  \\\n",
       "0   ham   \n",
       "1   ham   \n",
       "2  spam   \n",
       "3   ham   \n",
       "4   ham   \n",
       "\n",
       "                                                                                                                                                       message  \\\n",
       "0                                              Go until jurong point, crazy.. Available only in bugis n great world la e buffet... Cine there got amore wat...   \n",
       "1                                                                                                                                Ok lar... Joking wif u oni...   \n",
       "2  Free entry in 2 a wkly comp to win FA Cup final tkts 21st May 2005. Text FA to 87121 to receive entry question(std txt rate)T&C's apply 08452810075over18's   \n",
       "3                                                                                                            U dun say so early hor... U c already then say...   \n",
       "4                                                                                                Nah I don't think he goes to usf, he lives around here though   \n",
       "\n",
       "   length  \n",
       "0     111  \n",
       "1      29  \n",
       "2     155  \n",
       "3      49  \n",
       "4      61  "
      ]
     },
     "execution_count": 19,
     "metadata": {},
     "output_type": "execute_result"
    }
   ],
   "source": [
    "message.head()"
   ]
  },
  {
   "cell_type": "markdown",
   "id": "e911a1fe",
   "metadata": {},
   "source": [
    "Vectorization\n",
    "\n",
    "Currently, we have the messages as lists of tokens (also known as lemmas) and now we need to convert each of those messages into a vector the SciKit Learn's algorithm models can work with.\n",
    "Now we'll convert each message, represented as a list of tokens (lemmas) above, into a vector that machine learning models can understand.\n",
    "We'll do that in three steps using the bag-of-words model:\n",
    "Count how many times does a word occur in each message (Known as term frequency)\n",
    "Weigh the counts, so that frequent tokens get lower weight\n",
    "Normalize the vectors to unit length, to abstract from the original text length (L2 norm)\n",
    "Let's begin the first step:\n",
    "Each vector will have as many dimensions as there are unique words in the SMS corpus. We will first use SciKit Learn's CountVectorizer. This model will convert a collection of text documents to a matrix of token counts.\n",
    "We can imagine this as a 2-Dimensional matrix. Where the 1-dimension is the entire vocabulary (1 row per word) and the other dimension are the actual documents, in this case a column per text message."
   ]
  },
  {
   "cell_type": "code",
   "execution_count": 21,
   "id": "49fc33e7",
   "metadata": {},
   "outputs": [
    {
     "data": {
      "text/plain": [
       "'For example:\\nWord 1 Count\\tWord 2 Count\\t...\\tWord N Count\\nMessage 1\\t0\\t1\\t...\\t0\\nMessage 2\\t0\\t0\\t...\\t0\\n...\\t1\\t2\\t...\\t0\\nMessage N\\t0\\t1\\t...\\t1'"
      ]
     },
     "execution_count": 21,
     "metadata": {},
     "output_type": "execute_result"
    }
   ],
   "source": [
    "'''For example:\n",
    "Word 1 Count\tWord 2 Count\t...\tWord N Count\n",
    "Message 1\t0\t1\t...\t0\n",
    "Message 2\t0\t0\t...\t0\n",
    "...\t1\t2\t...\t0\n",
    "Message N\t0\t1\t...\t1'''"
   ]
  },
  {
   "cell_type": "markdown",
   "id": "10d597da",
   "metadata": {},
   "source": [
    "Since there are so many messages, we can expect a lot of zero counts for the presence of that word in that document. Because of this, SciKit Learn will output a Sparse Matrix."
   ]
  },
  {
   "cell_type": "code",
   "execution_count": 22,
   "id": "ae12fc6f",
   "metadata": {},
   "outputs": [],
   "source": [
    "from sklearn.feature_extraction.text import CountVectorizer"
   ]
  },
  {
   "cell_type": "markdown",
   "id": "693371f2",
   "metadata": {},
   "source": [
    "\n",
    "Let's take one text message and get its bag-of-words counts as a vector, putting to use our new bow_transformer:"
   ]
  },
  {
   "cell_type": "code",
   "execution_count": 42,
   "id": "3367893d",
   "metadata": {},
   "outputs": [],
   "source": [
    "del vectorizer"
   ]
  },
  {
   "cell_type": "code",
   "execution_count": 52,
   "id": "cb9e585c",
   "metadata": {},
   "outputs": [],
   "source": [
    "\n",
    "vectorizer = CountVectorizer(max_df = 0.9,min_df = 10)\n",
    "X = vectorizer.fit_transform(message['message'])"
   ]
  },
  {
   "cell_type": "code",
   "execution_count": 27,
   "id": "27657885",
   "metadata": {},
   "outputs": [
    {
     "name": "stdout",
     "output_type": "stream",
     "text": [
      "Index(['label', 'message', 'length'], dtype='object')\n"
     ]
    }
   ],
   "source": [
    "print(message.columns)"
   ]
  },
  {
   "cell_type": "code",
   "execution_count": 53,
   "id": "5eef0c9b",
   "metadata": {},
   "outputs": [
    {
     "data": {
      "text/plain": [
       "array([0, 0, 0, 0, 0, 0, 0, 0, 0, 0, 0, 0, 0, 0, 0, 0, 0, 0, 0, 0, 0, 0,\n",
       "       0, 0, 0, 0, 0, 0, 0, 0, 0, 0, 0, 0, 0, 0, 0, 0, 0, 0, 0, 1, 0, 0,\n",
       "       0, 0, 0, 0, 0, 0, 0, 1, 0, 0, 0, 0, 0, 0, 0, 0, 0, 0, 0, 0, 0, 0,\n",
       "       0, 3, 0, 0, 0, 0, 0, 0, 0, 0, 0, 0, 0, 1, 0, 0, 0, 0, 0, 0, 0, 0,\n",
       "       0, 0, 0, 0, 0, 0, 0, 0, 0, 0, 0, 1, 0, 0, 0, 0, 0, 0, 0, 0, 0, 0,\n",
       "       0, 0, 0, 0, 0, 0, 0, 0, 0, 0, 0, 0, 0, 0, 0, 0, 0, 0, 0, 0, 0, 1,\n",
       "       0, 0, 0, 0, 0, 0, 0, 0, 0, 0, 0, 0, 0, 0, 0, 0, 0, 0, 0, 0, 0, 0,\n",
       "       0, 0, 0, 0, 0, 0, 0, 0, 0, 0, 0, 0, 0, 0, 0, 0, 0, 0, 0, 0, 0, 0,\n",
       "       0, 0, 0, 0, 0, 0, 0, 0, 0, 0, 0, 0, 0, 0, 0, 0, 0, 0, 0, 0, 0, 0,\n",
       "       0, 0, 0, 0, 0, 0, 0, 0, 0, 0, 0, 0, 0, 0, 0, 0, 0, 0, 0, 0, 0, 0,\n",
       "       0, 0, 1, 0, 0, 0, 0, 0, 0, 0, 0, 0, 0, 1, 0, 0, 0, 0, 0, 0, 0, 0,\n",
       "       0, 0, 0, 0, 0, 0, 0, 0, 0, 0, 0, 0, 0, 0, 0, 0, 0, 0, 0, 0, 0, 0,\n",
       "       0, 0, 0, 0, 0, 0, 0, 0, 0, 0, 0, 0, 0, 0, 0, 0, 0, 0, 0, 0, 0, 0,\n",
       "       0, 0, 0, 0, 0, 0, 0, 0, 0, 0, 0, 0, 0, 0, 0, 0, 0, 0, 0, 0, 0, 0,\n",
       "       0, 0, 0, 0, 0, 0, 0, 0, 0, 0, 0, 0, 0, 0, 0, 0, 0, 0, 0, 0, 0, 0,\n",
       "       0, 0, 0, 0, 0, 0, 0, 0, 0, 0, 0, 0, 0, 1, 0, 0, 0, 0, 0, 0, 0, 0,\n",
       "       0, 0, 1, 0, 0, 0, 0, 1, 0, 0, 0, 0, 0, 0, 0, 0, 0, 0, 0, 0, 0, 0,\n",
       "       0, 0, 0, 0, 0, 0, 0, 0, 0, 0, 0, 0, 0, 0, 0, 0, 0, 0, 0, 0, 0, 0,\n",
       "       0, 0, 0, 0, 1, 0, 0, 0, 0, 0, 0, 0, 0, 0, 0, 0, 0, 0, 0, 0, 0, 0,\n",
       "       1, 0, 0, 0, 0, 0, 0, 0, 0, 0, 0, 0, 0, 0, 0, 0, 0, 0, 0, 0, 0, 0,\n",
       "       0, 0, 0, 0, 0, 0, 0, 0, 0, 0, 0, 0, 0, 0, 0, 0, 0, 0, 0, 0, 0, 0,\n",
       "       0, 0, 0, 0, 0, 0, 0, 0, 0, 0, 0, 0, 0, 0, 0, 0, 0, 0, 0, 0, 0, 0,\n",
       "       0, 0, 0, 0, 0, 0, 0, 0, 0, 0, 0, 0, 0, 0, 0, 0, 0, 0, 0, 0, 0, 0,\n",
       "       0, 0, 0, 0, 0, 0, 0, 0, 0, 0, 0, 0, 0, 0, 0, 0, 0, 0, 0, 0, 0, 0,\n",
       "       0, 0, 0, 0, 0, 0, 0, 0, 0, 0, 0, 0, 0, 1, 0, 0, 0, 0, 0, 0, 0, 0,\n",
       "       0, 0, 0, 0, 0, 0, 0, 0, 0, 0, 0, 0, 0, 0, 0, 0, 0, 0, 0, 0, 0, 1,\n",
       "       0, 0, 0, 0, 0, 0, 0, 0, 0, 0, 0, 0, 0, 0, 0, 0, 0, 0, 0, 0, 0, 0,\n",
       "       0, 0, 0, 0, 0, 0, 0, 0, 0, 0, 0, 0, 0, 0, 0, 0, 0, 0, 0, 0, 0, 0,\n",
       "       0, 0, 0, 0, 0, 0, 0, 0, 0, 0, 0, 0, 0, 0, 0, 0, 1, 0, 0, 0, 0, 0,\n",
       "       0, 0, 0, 0, 0, 0, 0, 0, 0, 0, 0, 0, 0, 0, 0, 0, 0, 0, 0, 0, 0, 0,\n",
       "       0, 0, 0, 0, 0, 0, 0, 0, 0, 0, 0, 0, 0, 0, 0, 0, 0, 0, 0, 0, 0, 0,\n",
       "       0, 0, 0, 0, 0, 0, 0, 0, 0, 0, 0, 0, 0, 0, 0, 0, 0, 0, 0, 0, 0, 0,\n",
       "       0, 0, 0, 0, 0, 0, 0, 0, 0, 0, 0, 0, 0, 0, 0, 0, 0, 0, 0, 0, 0, 0,\n",
       "       0, 0, 0, 0, 0, 0, 0, 0, 0, 0, 0, 0, 0, 0, 0, 0, 0, 0, 0, 0, 0, 0,\n",
       "       0, 0, 0, 0, 0, 0, 0, 0, 0, 0, 0, 0, 0, 0, 0, 0, 0, 0, 0, 0, 0, 0,\n",
       "       0, 0, 0, 0, 0, 0, 0, 0, 0, 0, 0, 0, 0, 0, 0, 0, 0, 0, 0, 0, 0, 0,\n",
       "       0, 0, 0, 0, 0, 0, 1, 0, 0, 0, 0, 0, 0, 0, 0, 0, 0, 0, 0, 0, 0, 0,\n",
       "       0, 0, 0, 0, 0, 0, 0, 0, 0, 0, 0, 0, 0, 0, 0, 0, 0, 0, 0, 0, 2, 0,\n",
       "       0, 0, 0, 0, 1, 0, 0, 0, 0, 0, 0, 0, 0, 0, 0, 0, 0, 0, 0, 0, 0, 0,\n",
       "       0, 0, 0, 0, 0, 0, 0, 0, 0, 0, 0, 0, 0, 0, 0, 0, 0, 0, 0, 0, 0, 0,\n",
       "       0, 0, 0, 0, 0, 0, 0, 0, 0, 0, 0, 0, 0, 0, 0, 0, 0, 0, 0, 0, 0, 0,\n",
       "       0, 0, 0, 0, 0, 0, 0, 0, 0, 0, 0, 0, 0, 0, 0, 0, 0, 0, 0, 0, 1, 0,\n",
       "       0, 0, 0, 0, 0, 0, 0, 0, 0, 0, 0, 0, 0, 0, 0, 0, 0, 0, 0, 0, 0, 0,\n",
       "       0, 0, 0, 0, 0, 0, 0, 0, 0, 0, 0, 0, 0, 0, 0, 0, 0, 0, 0, 0, 0, 0,\n",
       "       0, 0, 0, 0, 0, 0, 0, 0, 0, 0, 0, 0, 0, 0, 0, 0, 0, 0, 0, 0, 0, 0,\n",
       "       0, 0, 0, 0, 0, 0, 0, 0, 0, 0, 0, 0, 0, 0, 0, 0, 0, 3, 0, 0, 0, 0,\n",
       "       0, 0, 0, 0], dtype=int64)"
      ]
     },
     "execution_count": 53,
     "metadata": {},
     "output_type": "execute_result"
    }
   ],
   "source": [
    "X.toarray()[4560]"
   ]
  },
  {
   "cell_type": "code",
   "execution_count": 54,
   "id": "d50891b1",
   "metadata": {},
   "outputs": [
    {
     "name": "stdout",
     "output_type": "stream",
     "text": [
      "['00' '000' '03' '04' '0800' '08000839402' '08000930705' '10' '100' '1000'\n",
      " '10p' '11' '12' '12hrs' '150' '150p' '150ppm' '16' '18' '1st' '20' '200'\n",
      " '2000' '2003' '250' '2lands' '2nd' '2nite' '30' '350' '50' '500' '5000'\n",
      " '750' '800' '8007' '86688' '87066' '900' 'abiola' 'able' 'about' 'abt'\n",
      " 'ac' 'account' 'across' 'actually' 'address' 'admirer' 'aft' 'after'\n",
      " 'afternoon' 'again' 'age' 'ago' 'ah' 'aight' 'all' 'almost' 'alone'\n",
      " 'already' 'alright' 'also' 'always' 'am' 'amp' 'an' 'and' 'angry'\n",
      " 'another' 'ans' 'answer' 'any' 'anyone' 'anything' 'anytime' 'anyway'\n",
      " 'apply' 'ard' 'are' 'area' 'around' 'as' 'asap' 'ask' 'askd' 'asked'\n",
      " 'asking' 'ass' 'at' 'attempt' 'auction' 'available' 'await' 'award'\n",
      " 'awarded' 'away' 'awesome' 'b4' 'babe' 'baby' 'back' 'bad' 'balance'\n",
      " 'bank' 'bath' 'bathe' 'bcoz' 'be' 'beautiful' 'because' 'bed' 'been'\n",
      " 'before' 'being' 'believe' 'best' 'better' 'between' 'big' 'birthday'\n",
      " 'bit' 'blue' 'bonus' 'book' 'booked' 'bored' 'both' 'bout' 'box' 'boy'\n",
      " 'boytoy' 'break' 'bring' 'brother' 'bslvyl' 'bt' 'bus' 'busy' 'but' 'buy'\n",
      " 'by' 'call' 'call2optout' 'called' 'caller' 'calling' 'calls' 'camcorder'\n",
      " 'came' 'camera' 'can' 'cant' 'car' 'card' 'care' 'carlos' 'case' 'cash'\n",
      " 'cause' 'chance' 'change' 'charge' 'charged' 'chat' 'cheap' 'check'\n",
      " 'checking' 'chennai' 'chikku' 'choose' 'christmas' 'claim' 'class'\n",
      " 'clean' 'close' 'club' 'co' 'code' 'collect' 'collection' 'college'\n",
      " 'colour' 'com' 'come' 'comes' 'comin' 'coming' 'comp' 'company'\n",
      " 'complimentary' 'computer' 'confirm' 'congrats' 'congratulations'\n",
      " 'contact' 'content' 'convey' 'cool' 'correct' 'cos' 'cost' 'could'\n",
      " 'couple' 'course' 'coz' 'crave' 'crazy' 'credit' 'cs' 'cum' 'currently'\n",
      " 'custcare' 'customer' 'cut' 'da' 'dad' 'darlin' 'darren' 'dat' 'date'\n",
      " 'dating' 'day' 'days' 'de' 'dear' 'decided' 'decimal' 'deep' 'del'\n",
      " 'delivery' 'den' 'details' 'did' 'didn' 'didnt' 'die' 'different'\n",
      " 'difficult' 'dinner' 'direct' 'dis' 'discount' 'dnt' 'do' 'does' 'doesn'\n",
      " 'doin' 'doing' 'don' 'done' 'dont' 'double' 'down' 'download' 'draw'\n",
      " 'dream' 'dreams' 'drink' 'drive' 'driving' 'drop' 'drugs' 'dude' 'dun'\n",
      " 'dunno' 'each' 'earlier' 'early' 'easy' 'eat' 'eg' 'eh' 'either' 'else'\n",
      " 'em' 'email' 'end' 'ends' 'enjoy' 'enough' 'enter' 'entered' 'entry'\n",
      " 'etc' 'eve' 'even' 'evening' 'ever' 'every' 'everyone' 'everything' 'ex'\n",
      " 'exam' 'expires' 'extra' 'face' 'fact' 'family' 'fancy' 'fantastic' 'far'\n",
      " 'fast' 'feel' 'feeling' 'felt' 'few' 'film' 'final' 'finally' 'find'\n",
      " 'fine' 'finish' 'finished' 'first' 'fone' 'food' 'for' 'forget' 'forgot'\n",
      " 'found' 'fr' 'free' 'freemsg' 'fri' 'friday' 'friend' 'friends'\n",
      " 'friendship' 'frm' 'frnd' 'frnds' 'from' 'fuck' 'fucking' 'full' 'fun'\n",
      " 'game' 'games' 'gas' 'gave' 'gd' 'ge' 'get' 'gets' 'getting' 'getzed'\n",
      " 'gift' 'girl' 'girls' 'give' 'glad' 'go' 'god' 'goes' 'goin' 'going'\n",
      " 'gone' 'gonna' 'good' 'goodmorning' 'got' 'gotta' 'gr8' 'great' 'grins'\n",
      " 'gt' 'guaranteed' 'gud' 'guess' 'guy' 'guys' 'gym' 'ha' 'had' 'haf'\n",
      " 'haha' 'hair' 'half' 'hand' 'happen' 'happened' 'happiness' 'happy'\n",
      " 'hard' 'has' 'hav' 'have' 'haven' 'havent' 'having' 'he' 'head' 'hear'\n",
      " 'heard' 'heart' 'hee' 'hello' 'help' 'her' 'here' 'hey' 'hg' 'hi' 'him'\n",
      " 'his' 'hit' 'hmm' 'hmmm' 'hold' 'holiday' 'home' 'hope' 'hospital' 'hot'\n",
      " 'hour' 'hours' 'house' 'how' 'hows' 'http' 'huh' 'hungry' 'hurt' 'id'\n",
      " 'identifier' 'if' 'il' 'ill' 'im' 'immediately' 'important' 'in' 'india'\n",
      " 'info' 'information' 'into' 'invited' 'ipod' 'is' 'isn' 'it' 'its' 'jay'\n",
      " 'job' 'join' 'jus' 'just' 'juz' 'kate' 'keep' 'kind' 'kiss' 'knew' 'know'\n",
      " 'knows' 'knw' 'land' 'landline' 'laptop' 'lar' 'last' 'late' 'later'\n",
      " 'latest' 'laugh' 'ldn' 'least' 'leave' 'leaves' 'leaving' 'left' 'leh'\n",
      " 'lei' 'lesson' 'let' 'lets' 'liao' 'life' 'light' 'like' 'line' 'link'\n",
      " 'listen' 'little' 'live' 'll' 'loads' 'log' 'lol' 'long' 'look' 'looking'\n",
      " 'lor' 'lose' 'lost' 'lot' 'lots' 'lovable' 'love' 'loved' 'lovely'\n",
      " 'loving' 'lt' 'ltd' 'luck' 'lucky' 'lunch' 'luv' 'made' 'mah' 'mail'\n",
      " 'make' 'makes' 'making' 'man' 'many' 'march' 'match' 'mate' 'mates' 'may'\n",
      " 'mayb' 'maybe' 'me' 'mean' 'means' 'meant' 'meet' 'meeting' 'merry'\n",
      " 'message' 'messages' 'met' 'might' 'min' 'mind' 'mine' 'mins' 'minute'\n",
      " 'minutes' 'miss' 'missed' 'missing' 'mm' 'mob' 'mobile' 'mobiles'\n",
      " 'mobileupd8' 'mom' 'moment' 'monday' 'money' 'month' 'months' 'more'\n",
      " 'morning' 'most' 'motorola' 'move' 'movie' 'mr' 'mrng' 'msg' 'msgs' 'mu'\n",
      " 'much' 'mum' 'music' 'must' 'muz' 'my' 'myself' 'na' 'nah' 'name'\n",
      " 'national' 'need' 'needs' 'net' 'network' 'neva' 'never' 'new' 'news'\n",
      " 'next' 'ni8' 'nice' 'night' 'nite' 'no' 'nobody' 'noe' 'nokia' 'nope'\n",
      " 'normal' 'not' 'nothing' 'now' 'nt' 'ntt' 'number' 'numbers' 'nyt' 'of'\n",
      " 'off' 'offer' 'offers' 'office' 'oh' 'ok' 'okay' 'okie' 'old' 'on' 'once'\n",
      " 'one' 'online' 'only' 'oops' 'open' 'operator' 'opt' 'or' 'orange'\n",
      " 'orchard' 'order' 'oredi' 'oso' 'other' 'otherwise' 'our' 'out' 'outside'\n",
      " 'over' 'own' 'pa' 'pain' 'parents' 'park' 'part' 'party' 'pass' 'pay'\n",
      " 'people' 'per' 'person' 'pete' 'phone' 'phones' 'pic' 'pick' 'picking'\n",
      " 'pics' 'place' 'plan' 'plans' 'play' 'player' 'please' 'pls' 'plus' 'plz'\n",
      " 'pm' 'po' 'pobox' 'point' 'points' 'poly' 'post' 'pounds' 'pray' 'press'\n",
      " 'pretty' 'price' 'princess' 'private' 'prize' 'prob' 'probably' 'problem'\n",
      " 'project' 'pub' 'put' 'question' 'questions' 'quite' 'quiz' 'rakhesh'\n",
      " 'rate' 'rates' 're' 'reach' 'reached' 'read' 'reading' 'ready' 'real'\n",
      " 'really' 'reason' 'receive' 'red' 'redeemed' 'remember' 'remove' 'rental'\n",
      " 'reply' 'representative' 'rest' 'reveal' 'right' 'ring' 'ringtone' 'rite'\n",
      " 'room' 'row' 'rply' 'rs' 'run' 'sad' 'sae' 'safe' 'said' 'same' 'sat'\n",
      " 'saturday' 'save' 'saw' 'say' 'saying' 'says' 'sch' 'school' 'sea'\n",
      " 'search' 'second' 'secret' 'see' 'seeing' 'seen' 'selected' 'semester'\n",
      " 'send' 'sending' 'sent' 'service' 'services' 'set' 'sex' 'sexy' 'shall'\n",
      " 'she' 'shit' 'shop' 'shopping' 'should' 'show' 'shower' 'shows' 'side'\n",
      " 'simple' 'since' 'sir' 'sis' 'sister' 'sleep' 'sleeping' 'slow' 'slowly'\n",
      " 'small' 'smile' 'smiling' 'smoke' 'sms' 'smth' 'snow' 'so' 'some'\n",
      " 'somebody' 'someone' 'something' 'somewhere' 'song' 'sony' 'soon' 'sorry'\n",
      " 'sort' 'sound' 'sounds' 'speak' 'special' 'spend' 'st' 'start' 'started'\n",
      " 'statement' 'stay' 'std' 'still' 'stop' 'store' 'story' 'study' 'stuff'\n",
      " 'stupid' 'sub' 'suite342' 'sun' 'sunday' 'support' 'supposed' 'sure'\n",
      " 'surprise' 'sweet' 'swing' 'take' 'takes' 'taking' 'talk' 'talking' 'tc'\n",
      " 'tel' 'tell' 'telling' 'ten' 'terms' 'test' 'text' 'texts' 'th' 'than'\n",
      " 'thank' 'thanks' 'thanx' 'that' 'thats' 'the' 'their' 'them' 'then'\n",
      " 'there' 'these' 'they' 'thing' 'things' 'think' 'thinking' 'thinks'\n",
      " 'this' 'thk' 'tho' 'those' 'though' 'thought' 'through' 'tickets' 'til'\n",
      " 'till' 'time' 'times' 'tired' 'tmr' 'to' 'today' 'todays' 'together'\n",
      " 'told' 'tomo' 'tomorrow' 'tone' 'tones' 'tonight' 'too' 'took' 'top'\n",
      " 'tot' 'touch' 'town' 'treat' 'tried' 'trip' 'true' 'truth' 'try' 'trying'\n",
      " 'ts' 'tv' 'two' 'txt' 'txting' 'txts' 'type' 'ugh' 'uk' 'un' 'uncle'\n",
      " 'understand' 'unlimited' 'unsubscribe' 'until' 'up' 'update' 'ur'\n",
      " 'urgent' 'us' 'use' 'used' 'usf' 'usual' 'valid' 'valued' 've' 'very'\n",
      " 'via' 'video' 'visit' 'voice' 'voucher' 'vouchers' 'w1j6hl' 'wait'\n",
      " 'waiting' 'wake' 'walk' 'wan' 'wana' 'wanna' 'want' 'wanted' 'wants'\n",
      " 'warm' 'was' 'wasn' 'wat' 'watch' 'watching' 'water' 'way' 'we' 'week'\n",
      " 'weekend' 'weekly' 'weeks' 'welcome' 'well' 'wen' 'went' 'were' 'what'\n",
      " 'whatever' 'whats' 'when' 'whenever' 'where' 'which' 'while' 'who'\n",
      " 'whole' 'why' 'wid' 'wif' 'wife' 'wil' 'will' 'win' 'wine' 'winner'\n",
      " 'wish' 'wishing' 'wit' 'with' 'within' 'without' 'wk' 'wkly' 'woke' 'won'\n",
      " 'wonder' 'wonderful' 'wont' 'word' 'words' 'work' 'working' 'world'\n",
      " 'worried' 'worry' 'worth' 'wot' 'would' 'wow' 'write' 'wrong' 'www'\n",
      " 'xmas' 'xx' 'xxx' 'ya' 'yar' 'yeah' 'year' 'years' 'yep' 'yes'\n",
      " 'yesterday' 'yet' 'yo' 'you' 'your' 'yours' 'yourself' 'yr' 'yup' 'ì_'\n",
      " 'ìï' 'û_']\n"
     ]
    }
   ],
   "source": [
    "vocabulary = vectorizer.get_feature_names_out()\n",
    "print(vocabulary)"
   ]
  },
  {
   "cell_type": "code",
   "execution_count": 46,
   "id": "c7cba261",
   "metadata": {},
   "outputs": [
    {
     "name": "stdout",
     "output_type": "stream",
     "text": [
      "1016\n"
     ]
    }
   ],
   "source": [
    "num_features=len(vocabulary)\n",
    "print(num_features)"
   ]
  },
  {
   "cell_type": "code",
   "execution_count": 47,
   "id": "70ae780c",
   "metadata": {},
   "outputs": [
    {
     "data": {
      "text/plain": [
       "(5572, 1016)"
      ]
     },
     "execution_count": 47,
     "metadata": {},
     "output_type": "execute_result"
    }
   ],
   "source": [
    "X.toarray().shape"
   ]
  },
  {
   "cell_type": "code",
   "execution_count": 48,
   "id": "6b92edf5",
   "metadata": {},
   "outputs": [],
   "source": [
    "import sys\n",
    "import numpy\n",
    "numpy.set_printoptions(threshold=sys.maxsize)"
   ]
  },
  {
   "cell_type": "code",
   "execution_count": 60,
   "id": "4536a50b",
   "metadata": {},
   "outputs": [
    {
     "name": "stdout",
     "output_type": "stream",
     "text": [
      "Fyi I'm gonna call you sporadically starting at like  ltgt  bc we are not not doin this shit\n"
     ]
    }
   ],
   "source": [
    "original_message = message.iloc[4065]['message']\n",
    "# Remove the unwanted substring\n",
    "cleaned_message = original_message.replace('&','').replace(';','').replace('#','')\n",
    "print(cleaned_message)"
   ]
  },
  {
   "cell_type": "code",
   "execution_count": 62,
   "id": "963f0561",
   "metadata": {},
   "outputs": [
    {
     "data": {
      "text/plain": [
       "14"
      ]
     },
     "execution_count": 62,
     "metadata": {},
     "output_type": "execute_result"
    }
   ],
   "source": [
    "sum(X.toarray()[4065])"
   ]
  },
  {
   "cell_type": "code",
   "execution_count": 63,
   "id": "e3bbea50",
   "metadata": {},
   "outputs": [
    {
     "data": {
      "text/plain": [
       "array([0, 0, 0, 0, 0, 0, 0, 0, 0, 0, 0, 0, 0, 0, 0, 0, 0, 0, 0, 0, 0, 0,\n",
       "       0, 0, 0, 0, 0, 0, 0, 0, 0, 0, 0, 0, 0, 0, 0, 0, 0, 0, 0, 0, 0, 0,\n",
       "       0, 0, 0, 0, 0, 0, 0, 0, 0, 0, 0, 0, 0, 0, 0, 0, 0, 0, 0, 0, 0, 0,\n",
       "       0, 0, 0, 0, 0, 0, 0, 0, 0, 0, 0, 0, 0, 1, 0, 0, 0, 0, 0, 0, 0, 0,\n",
       "       0, 1, 0, 0, 0, 0, 0, 0, 0, 0, 0, 0, 0, 0, 0, 0, 0, 0, 0, 0, 0, 0,\n",
       "       0, 0, 0, 0, 0, 0, 0, 0, 0, 0, 0, 0, 0, 0, 0, 0, 0, 0, 0, 0, 0, 0,\n",
       "       0, 0, 0, 0, 0, 0, 0, 0, 0, 0, 1, 0, 0, 0, 0, 0, 0, 0, 0, 0, 0, 0,\n",
       "       0, 0, 0, 0, 0, 0, 0, 0, 0, 0, 0, 0, 0, 0, 0, 0, 0, 0, 0, 0, 0, 0,\n",
       "       0, 0, 0, 0, 0, 0, 0, 0, 0, 0, 0, 0, 0, 0, 0, 0, 0, 0, 0, 0, 0, 0,\n",
       "       0, 0, 0, 0, 0, 0, 0, 0, 0, 0, 0, 0, 0, 0, 0, 0, 0, 0, 0, 0, 0, 0,\n",
       "       0, 0, 0, 0, 0, 0, 0, 0, 0, 0, 0, 0, 0, 0, 0, 0, 0, 0, 0, 0, 0, 0,\n",
       "       0, 0, 0, 0, 0, 1, 0, 0, 0, 0, 0, 0, 0, 0, 0, 0, 0, 0, 0, 0, 0, 0,\n",
       "       0, 0, 0, 0, 0, 0, 0, 0, 0, 0, 0, 0, 0, 0, 0, 0, 0, 0, 0, 0, 0, 0,\n",
       "       0, 0, 0, 0, 0, 0, 0, 0, 0, 0, 0, 0, 0, 0, 0, 0, 0, 0, 0, 0, 0, 0,\n",
       "       0, 0, 0, 0, 0, 0, 0, 0, 0, 0, 0, 0, 0, 0, 0, 0, 0, 0, 0, 0, 0, 0,\n",
       "       0, 0, 0, 0, 0, 0, 0, 0, 0, 0, 0, 0, 0, 0, 0, 0, 0, 0, 0, 0, 0, 0,\n",
       "       0, 0, 0, 0, 0, 0, 1, 0, 0, 0, 0, 0, 0, 0, 1, 0, 0, 0, 0, 0, 0, 0,\n",
       "       0, 0, 0, 0, 0, 0, 0, 0, 0, 0, 0, 0, 0, 0, 0, 0, 0, 0, 0, 0, 0, 0,\n",
       "       0, 0, 0, 0, 0, 0, 0, 0, 0, 0, 0, 0, 0, 0, 0, 0, 0, 0, 0, 0, 0, 0,\n",
       "       0, 0, 0, 0, 0, 0, 0, 0, 0, 0, 0, 0, 0, 0, 0, 0, 0, 0, 0, 0, 0, 0,\n",
       "       0, 0, 0, 0, 0, 0, 0, 0, 0, 0, 0, 0, 0, 0, 0, 0, 0, 0, 0, 0, 0, 0,\n",
       "       0, 0, 0, 0, 0, 0, 0, 0, 0, 0, 0, 0, 0, 0, 0, 0, 0, 0, 1, 0, 0, 0,\n",
       "       0, 0, 0, 0, 0, 0, 0, 0, 0, 0, 0, 0, 0, 0, 0, 0, 0, 0, 0, 1, 0, 0,\n",
       "       0, 0, 0, 0, 0, 0, 0, 0, 0, 0, 0, 0, 0, 0, 0, 0, 0, 0, 0, 0, 0, 0,\n",
       "       0, 0, 0, 0, 0, 0, 0, 0, 0, 0, 0, 0, 0, 0, 0, 0, 0, 0, 0, 0, 0, 0,\n",
       "       0, 0, 0, 0, 0, 0, 0, 0, 0, 0, 0, 0, 0, 0, 0, 0, 0, 0, 0, 0, 0, 0,\n",
       "       0, 0, 0, 0, 0, 0, 0, 0, 0, 0, 0, 0, 0, 0, 0, 0, 0, 0, 0, 0, 0, 0,\n",
       "       0, 0, 2, 0, 0, 0, 0, 0, 0, 0, 0, 0, 0, 0, 0, 0, 0, 0, 0, 0, 0, 0,\n",
       "       0, 0, 0, 0, 0, 0, 0, 0, 0, 0, 0, 0, 0, 0, 0, 0, 0, 0, 0, 0, 0, 0,\n",
       "       0, 0, 0, 0, 0, 0, 0, 0, 0, 0, 0, 0, 0, 0, 0, 0, 0, 0, 0, 0, 0, 0,\n",
       "       0, 0, 0, 0, 0, 0, 0, 0, 0, 0, 0, 0, 0, 0, 0, 0, 0, 0, 0, 0, 0, 0,\n",
       "       0, 0, 0, 0, 0, 0, 0, 0, 0, 0, 0, 0, 0, 0, 0, 0, 0, 0, 0, 0, 0, 0,\n",
       "       0, 0, 0, 0, 0, 0, 0, 0, 0, 0, 0, 0, 0, 0, 0, 0, 0, 0, 0, 0, 0, 0,\n",
       "       0, 0, 0, 0, 0, 0, 0, 0, 0, 0, 0, 0, 0, 0, 0, 0, 0, 0, 0, 0, 0, 0,\n",
       "       0, 0, 0, 0, 1, 0, 0, 0, 0, 0, 0, 0, 0, 0, 0, 0, 0, 0, 0, 0, 0, 0,\n",
       "       0, 0, 0, 0, 0, 0, 0, 0, 0, 0, 0, 0, 0, 0, 0, 0, 0, 0, 0, 0, 0, 0,\n",
       "       0, 0, 0, 0, 0, 0, 0, 0, 0, 0, 0, 0, 0, 0, 0, 0, 0, 0, 0, 0, 0, 0,\n",
       "       0, 0, 0, 0, 0, 0, 0, 0, 0, 0, 0, 0, 0, 0, 0, 0, 0, 0, 0, 0, 0, 0,\n",
       "       0, 0, 0, 0, 0, 0, 0, 0, 0, 0, 0, 0, 1, 0, 0, 0, 0, 0, 0, 0, 0, 0,\n",
       "       0, 0, 0, 0, 0, 0, 0, 0, 0, 0, 0, 0, 0, 0, 0, 0, 0, 0, 0, 0, 0, 0,\n",
       "       0, 0, 0, 0, 0, 0, 0, 0, 0, 0, 0, 0, 0, 0, 0, 0, 0, 0, 0, 0, 0, 0,\n",
       "       0, 0, 0, 0, 0, 0, 0, 0, 0, 0, 0, 0, 0, 0, 0, 0, 0, 0, 0, 0, 0, 0,\n",
       "       0, 0, 0, 0, 0, 0, 0, 0, 0, 0, 0, 0, 0, 0, 1, 0, 0, 0, 0, 0, 0, 0,\n",
       "       0, 0, 0, 0, 0, 0, 0, 0, 0, 0, 0, 0, 0, 0, 0, 0, 0, 0, 0, 0, 0, 0,\n",
       "       0, 0, 0, 0, 0, 0, 0, 0, 0, 0, 0, 0, 0, 0, 0, 0, 0, 0, 0, 0, 0, 0,\n",
       "       0, 0, 0, 0, 0, 0, 0, 0, 0, 0, 0, 0, 0, 0, 0, 0, 0, 1, 0, 0, 0, 0,\n",
       "       0, 0, 0, 0], dtype=int64)"
      ]
     },
     "execution_count": 63,
     "metadata": {},
     "output_type": "execute_result"
    }
   ],
   "source": [
    "X.toarray()[4065]"
   ]
  },
  {
   "cell_type": "code",
   "execution_count": 64,
   "id": "33977336",
   "metadata": {},
   "outputs": [
    {
     "data": {
      "text/plain": [
       "26"
      ]
     },
     "execution_count": 64,
     "metadata": {},
     "output_type": "execute_result"
    }
   ],
   "source": [
    "sum(X.toarray()[4560])"
   ]
  },
  {
   "cell_type": "code",
   "execution_count": 69,
   "id": "af350015",
   "metadata": {},
   "outputs": [
    {
     "name": "stdout",
     "output_type": "stream",
     "text": [
      "pray\n",
      "movie\n"
     ]
    }
   ],
   "source": [
    "print(feature_names[671])\n",
    "print(feature_names[560])\n",
    "# print(\"Total number of features:\", feature_names.shape[0])\n"
   ]
  },
  {
   "cell_type": "markdown",
   "id": "886bfe98",
   "metadata": {},
   "source": [
    "Training a model\n",
    "Firstly we will do the usual train test split"
   ]
  },
  {
   "cell_type": "code",
   "execution_count": 71,
   "id": "7f0e07be",
   "metadata": {},
   "outputs": [],
   "source": [
    "from sklearn.model_selection import train_test_split\n",
    "msg_train,msg_test,label_train,label_test = train_test_split(message['message'],message['label'],test_size=0.2)"
   ]
  },
  {
   "cell_type": "code",
   "execution_count": 72,
   "id": "abad4cc9",
   "metadata": {},
   "outputs": [
    {
     "data": {
      "text/plain": [
       "488                                                         Depends on quality. If you want the type i sent boye, faded glory, then about 6. If you want ralphs maybe 2\n",
       "4394                                                                                         Only just got this message, not ignoring you. Yes, i was. Shopping that is\n",
       "4803                                                 Er, hello, things didnÛ÷t quite go to plan ÛÒ is limping slowly home followed by aa and with exhaust hanging off\n",
       "2298                                                                                              Dont pick up d call when something important is There to tell. Hrishi\n",
       "1784    Dont search love, let love find U. Thats why its called falling in love, bcoz U dont force yourself, U just fall and U know there is smeone to hold U... BSLVYL\n",
       "Name: message, dtype: object"
      ]
     },
     "execution_count": 72,
     "metadata": {},
     "output_type": "execute_result"
    }
   ],
   "source": [
    "msg_train.head()"
   ]
  },
  {
   "cell_type": "markdown",
   "id": "89c6f109",
   "metadata": {},
   "source": [
    "With messages represented as vectors, we can finally train our spam/ham classifier. Now we can use Naive Bayes Classifier to perform this classification task"
   ]
  },
  {
   "cell_type": "code",
   "execution_count": 73,
   "id": "1a14f5cb",
   "metadata": {},
   "outputs": [],
   "source": [
    "\n",
    "train_vectorized = vectorizer.transform(msg_train)\n",
    "test_vectorized = vectorizer.transform(msg_test)"
   ]
  },
  {
   "cell_type": "code",
   "execution_count": 74,
   "id": "22eccab7",
   "metadata": {},
   "outputs": [
    {
     "data": {
      "text/plain": [
       "<4457x1016 sparse matrix of type '<class 'numpy.int64'>'\n",
       "\twith 46545 stored elements in Compressed Sparse Row format>"
      ]
     },
     "execution_count": 74,
     "metadata": {},
     "output_type": "execute_result"
    }
   ],
   "source": [
    "train_vectorized"
   ]
  },
  {
   "cell_type": "code",
   "execution_count": 75,
   "id": "b4786fc4",
   "metadata": {},
   "outputs": [],
   "source": [
    "train_array= train_vectorized.toarray()\n",
    "test_array = test_vectorized.toarray()"
   ]
  },
  {
   "cell_type": "code",
   "execution_count": 76,
   "id": "055eff18",
   "metadata": {},
   "outputs": [],
   "source": [
    "from sklearn.naive_bayes import GaussianNB\n",
    "spam_detect_model = GaussianNB().fit(train_array,label_train)"
   ]
  },
  {
   "cell_type": "code",
   "execution_count": 77,
   "id": "cee531eb",
   "metadata": {},
   "outputs": [],
   "source": [
    "train_preds = spam_detect_model.predict(train_array)\n",
    "test_preds = spam_detect_model.predict(test_array)"
   ]
  },
  {
   "cell_type": "code",
   "execution_count": 78,
   "id": "978f2dd8",
   "metadata": {},
   "outputs": [],
   "source": [
    "from sklearn.metrics import classification_report,confusion_matrix"
   ]
  },
  {
   "cell_type": "code",
   "execution_count": 79,
   "id": "937eaf7e",
   "metadata": {},
   "outputs": [
    {
     "name": "stdout",
     "output_type": "stream",
     "text": [
      "[[3053  813]\n",
      " [   0  591]]\n",
      "[[764 195]\n",
      " [  8 148]]\n"
     ]
    }
   ],
   "source": [
    "# Confusion matrices for train and test \n",
    "\n",
    "print(confusion_matrix(label_train,train_preds))\n",
    "print(confusion_matrix(label_test,test_preds))"
   ]
  },
  {
   "cell_type": "code",
   "execution_count": 80,
   "id": "abc819e7",
   "metadata": {},
   "outputs": [
    {
     "name": "stdout",
     "output_type": "stream",
     "text": [
      "              precision    recall  f1-score   support\n",
      "\n",
      "         ham       1.00      0.79      0.88      3866\n",
      "        spam       0.42      1.00      0.59       591\n",
      "\n",
      "    accuracy                           0.82      4457\n",
      "   macro avg       0.71      0.89      0.74      4457\n",
      "weighted avg       0.92      0.82      0.84      4457\n",
      "\n",
      "\n",
      "\n",
      "              precision    recall  f1-score   support\n",
      "\n",
      "         ham       0.99      0.80      0.88       959\n",
      "        spam       0.43      0.95      0.59       156\n",
      "\n",
      "    accuracy                           0.82      1115\n",
      "   macro avg       0.71      0.87      0.74      1115\n",
      "weighted avg       0.91      0.82      0.84      1115\n",
      "\n"
     ]
    }
   ],
   "source": [
    "# Print the classification report for train and test\n",
    "print(classification_report(label_train,train_preds))\n",
    "print(\"\\n\")\n",
    "print(classification_report(label_test,test_preds))"
   ]
  },
  {
   "cell_type": "code",
   "execution_count": null,
   "id": "2f03e7f5",
   "metadata": {},
   "outputs": [],
   "source": []
  }
 ],
 "metadata": {
  "kernelspec": {
   "display_name": "Python 3 (ipykernel)",
   "language": "python",
   "name": "python3"
  },
  "language_info": {
   "codemirror_mode": {
    "name": "ipython",
    "version": 3
   },
   "file_extension": ".py",
   "mimetype": "text/x-python",
   "name": "python",
   "nbconvert_exporter": "python",
   "pygments_lexer": "ipython3",
   "version": "3.11.5"
  }
 },
 "nbformat": 4,
 "nbformat_minor": 5
}
